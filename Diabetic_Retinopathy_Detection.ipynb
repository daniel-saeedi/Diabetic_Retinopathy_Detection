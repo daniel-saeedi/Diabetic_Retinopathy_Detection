{
  "nbformat": 4,
  "nbformat_minor": 0,
  "metadata": {
    "colab": {
      "name": "Diabetic_Retinopathy_Detection.ipynb",
      "provenance": [],
      "collapsed_sections": []
    },
    "kernelspec": {
      "display_name": "Python 3",
      "name": "python3"
    },
    "language_info": {
      "name": "python"
    }
  },
  "cells": [
    {
      "cell_type": "markdown",
      "metadata": {
        "id": "5CQPibunApOu"
      },
      "source": [
        "# Diabetic Retinopathy Detection\n",
        "Diabetic retinopathy is the leading cause of blindness in the working-age population of the developed world. It is estimated to affect over 93 million people.\n",
        "\n",
        "The need for a comprehensive and automated method of DR screening has long been recognized, and previous efforts have made good progress using image classification, pattern recognition, and machine learning. With color fundus photography as input, the goal of this competition is to push an automated detection system to the limit of what is possible – ideally resulting in models with realistic clinical potential. The winning models will be open sourced to maximize the impact such a model can have on improving DR detection."
      ]
    },
    {
      "cell_type": "code",
      "metadata": {
        "id": "gbqjYL8CABKz"
      },
      "source": [
        "import numpy as np\n",
        "import pandas as pd\n",
        "import matplotlib.pyplot as plt\n",
        "import seaborn as sns\n",
        "from PIL import Image"
      ],
      "execution_count": null,
      "outputs": []
    },
    {
      "cell_type": "code",
      "metadata": {
        "id": "pvu3jXmABIJr"
      },
      "source": [
        "import os\n",
        "from getpass import getpass\n",
        "import urllib\n",
        "from google.colab import drive\n",
        "from tqdm import tqdm"
      ],
      "execution_count": null,
      "outputs": []
    },
    {
      "cell_type": "markdown",
      "metadata": {
        "id": "g3zTqQVRGzus"
      },
      "source": [
        "## Downloading the Kaggle dataset"
      ]
    },
    {
      "cell_type": "code",
      "metadata": {
        "id": "7lf8K4nxGwla",
        "colab": {
          "base_uri": "https://localhost:8080/"
        },
        "outputId": "2c5b09f8-8e67-4c1e-e693-755b569e770a"
      },
      "source": [
        "!pip install kaggle"
      ],
      "execution_count": null,
      "outputs": [
        {
          "output_type": "stream",
          "name": "stdout",
          "text": [
            "Requirement already satisfied: kaggle in /usr/local/lib/python3.7/dist-packages (1.5.12)\n",
            "Requirement already satisfied: urllib3 in /usr/local/lib/python3.7/dist-packages (from kaggle) (1.24.3)\n",
            "Requirement already satisfied: requests in /usr/local/lib/python3.7/dist-packages (from kaggle) (2.23.0)\n",
            "Requirement already satisfied: python-slugify in /usr/local/lib/python3.7/dist-packages (from kaggle) (5.0.2)\n",
            "Requirement already satisfied: tqdm in /usr/local/lib/python3.7/dist-packages (from kaggle) (4.62.0)\n",
            "Requirement already satisfied: certifi in /usr/local/lib/python3.7/dist-packages (from kaggle) (2021.5.30)\n",
            "Requirement already satisfied: python-dateutil in /usr/local/lib/python3.7/dist-packages (from kaggle) (2.8.2)\n",
            "Requirement already satisfied: six>=1.10 in /usr/local/lib/python3.7/dist-packages (from kaggle) (1.15.0)\n",
            "Requirement already satisfied: text-unidecode>=1.3 in /usr/local/lib/python3.7/dist-packages (from python-slugify->kaggle) (1.3)\n",
            "Requirement already satisfied: chardet<4,>=3.0.2 in /usr/local/lib/python3.7/dist-packages (from requests->kaggle) (3.0.4)\n",
            "Requirement already satisfied: idna<3,>=2.5 in /usr/local/lib/python3.7/dist-packages (from requests->kaggle) (2.10)\n"
          ]
        }
      ]
    },
    {
      "cell_type": "code",
      "metadata": {
        "id": "UonvqwGgQQvA"
      },
      "source": [
        "!mkdir ~/../content/.kaggle/"
      ],
      "execution_count": null,
      "outputs": []
    },
    {
      "cell_type": "code",
      "metadata": {
        "colab": {
          "base_uri": "https://localhost:8080/"
        },
        "id": "9wRfccmvHu60",
        "outputId": "3838872a-3202-4342-9d00-30b107c48be5"
      },
      "source": [
        "import json\n",
        "import zipfile\n",
        "import os\n",
        "\n",
        "api_token = {\"username\":\"danialsaeedi\",\"key\":\"0e8b2b44d44c77da540a3be3f55a84e4\"}\n",
        "\n",
        "with open('/content/.kaggle/kaggle.json', 'w') as file:\n",
        "    json.dump(api_token, file)\n",
        "\n",
        "!cp /content/.kaggle/kaggle.json ~/.kaggle/kaggle.json\n",
        "\n",
        "!chmod 600 /root/.kaggle/kaggle.json\n",
        "!kaggle config set -n path -v{/content}"
      ],
      "execution_count": null,
      "outputs": [
        {
          "output_type": "stream",
          "name": "stdout",
          "text": [
            "- path is now set to: {/content}\n"
          ]
        }
      ]
    },
    {
      "cell_type": "code",
      "metadata": {
        "colab": {
          "base_uri": "https://localhost:8080/"
        },
        "id": "i_VIDZcVJyVi",
        "outputId": "36660e46-57cf-4088-bdc7-ef63d8712d4c"
      },
      "source": [
        "!kaggle datasets download tanlikesmath/diabetic-retinopathy-resized"
      ],
      "execution_count": null,
      "outputs": [
        {
          "output_type": "stream",
          "name": "stdout",
          "text": [
            "Downloading diabetic-retinopathy-resized.zip to {/content}/datasets/tanlikesmath/diabetic-retinopathy-resized\n",
            "100% 7.25G/7.25G [01:10<00:00, 96.6MB/s]\n",
            "100% 7.25G/7.25G [01:10<00:00, 110MB/s] \n"
          ]
        }
      ]
    },
    {
      "cell_type": "code",
      "metadata": {
        "id": "oE0WhGKezHSq"
      },
      "source": [
        "!unzip /content/{/content}/datasets/tanlikesmath/diabetic-retinopathy-resized/diabetic-retinopathy-resized.zip"
      ],
      "execution_count": null,
      "outputs": []
    },
    {
      "cell_type": "markdown",
      "metadata": {
        "id": "zwkuW7uV063w"
      },
      "source": [
        "## Analyzing the data\n",
        "\n"
      ]
    },
    {
      "cell_type": "code",
      "metadata": {
        "colab": {
          "base_uri": "https://localhost:8080/",
          "height": 419
        },
        "id": "c1wEfwlnzpEU",
        "outputId": "138cf5cf-9007-4d53-977c-b67422e84d6a"
      },
      "source": [
        "df_train = pd.read_csv('trainLabels.csv')\n",
        "df_train"
      ],
      "execution_count": null,
      "outputs": [
        {
          "output_type": "execute_result",
          "data": {
            "text/html": [
              "<div>\n",
              "<style scoped>\n",
              "    .dataframe tbody tr th:only-of-type {\n",
              "        vertical-align: middle;\n",
              "    }\n",
              "\n",
              "    .dataframe tbody tr th {\n",
              "        vertical-align: top;\n",
              "    }\n",
              "\n",
              "    .dataframe thead th {\n",
              "        text-align: right;\n",
              "    }\n",
              "</style>\n",
              "<table border=\"1\" class=\"dataframe\">\n",
              "  <thead>\n",
              "    <tr style=\"text-align: right;\">\n",
              "      <th></th>\n",
              "      <th>image</th>\n",
              "      <th>level</th>\n",
              "    </tr>\n",
              "  </thead>\n",
              "  <tbody>\n",
              "    <tr>\n",
              "      <th>0</th>\n",
              "      <td>10_left</td>\n",
              "      <td>0</td>\n",
              "    </tr>\n",
              "    <tr>\n",
              "      <th>1</th>\n",
              "      <td>10_right</td>\n",
              "      <td>0</td>\n",
              "    </tr>\n",
              "    <tr>\n",
              "      <th>2</th>\n",
              "      <td>13_left</td>\n",
              "      <td>0</td>\n",
              "    </tr>\n",
              "    <tr>\n",
              "      <th>3</th>\n",
              "      <td>13_right</td>\n",
              "      <td>0</td>\n",
              "    </tr>\n",
              "    <tr>\n",
              "      <th>4</th>\n",
              "      <td>15_left</td>\n",
              "      <td>1</td>\n",
              "    </tr>\n",
              "    <tr>\n",
              "      <th>...</th>\n",
              "      <td>...</td>\n",
              "      <td>...</td>\n",
              "    </tr>\n",
              "    <tr>\n",
              "      <th>35121</th>\n",
              "      <td>44347_right</td>\n",
              "      <td>0</td>\n",
              "    </tr>\n",
              "    <tr>\n",
              "      <th>35122</th>\n",
              "      <td>44348_left</td>\n",
              "      <td>0</td>\n",
              "    </tr>\n",
              "    <tr>\n",
              "      <th>35123</th>\n",
              "      <td>44348_right</td>\n",
              "      <td>0</td>\n",
              "    </tr>\n",
              "    <tr>\n",
              "      <th>35124</th>\n",
              "      <td>44349_left</td>\n",
              "      <td>0</td>\n",
              "    </tr>\n",
              "    <tr>\n",
              "      <th>35125</th>\n",
              "      <td>44349_right</td>\n",
              "      <td>1</td>\n",
              "    </tr>\n",
              "  </tbody>\n",
              "</table>\n",
              "<p>35126 rows × 2 columns</p>\n",
              "</div>"
            ],
            "text/plain": [
              "             image  level\n",
              "0          10_left      0\n",
              "1         10_right      0\n",
              "2          13_left      0\n",
              "3         13_right      0\n",
              "4          15_left      1\n",
              "...            ...    ...\n",
              "35121  44347_right      0\n",
              "35122   44348_left      0\n",
              "35123  44348_right      0\n",
              "35124   44349_left      0\n",
              "35125  44349_right      1\n",
              "\n",
              "[35126 rows x 2 columns]"
            ]
          },
          "metadata": {},
          "execution_count": 10
        }
      ]
    },
    {
      "cell_type": "code",
      "metadata": {
        "colab": {
          "base_uri": "https://localhost:8080/",
          "height": 350
        },
        "id": "q3Q2qu6J0Yev",
        "outputId": "eaafcb9f-fd84-43b6-9238-9f34c3ef54e7"
      },
      "source": [
        "sns.countplot(df_train['level'])"
      ],
      "execution_count": null,
      "outputs": [
        {
          "output_type": "stream",
          "name": "stderr",
          "text": [
            "/usr/local/lib/python3.7/dist-packages/seaborn/_decorators.py:43: FutureWarning: Pass the following variable as a keyword arg: x. From version 0.12, the only valid positional argument will be `data`, and passing other arguments without an explicit keyword will result in an error or misinterpretation.\n",
            "  FutureWarning\n"
          ]
        },
        {
          "output_type": "execute_result",
          "data": {
            "text/plain": [
              "<matplotlib.axes._subplots.AxesSubplot at 0x7f6024db4e90>"
            ]
          },
          "metadata": {},
          "execution_count": 11
        },
        {
          "output_type": "display_data",
          "data": {
            "image/png": "[encoded data removed]",
            "text/plain": [
              "<Figure size 432x288 with 1 Axes>"
            ]
          },
          "metadata": {
            "needs_background": "light"
          }
        }
      ]
    },
    {
      "cell_type": "markdown",
      "metadata": {
        "id": "7AU6IhEB19ja"
      },
      "source": [
        "Because the labels are imbalanced, we split the data set in a stratified fashion, using this as the class labels."
      ]
    },
    {
      "cell_type": "code",
      "metadata": {
        "colab": {
          "base_uri": "https://localhost:8080/",
          "height": 419
        },
        "id": "gvJp8mSKERmK",
        "outputId": "93bb1a8b-8a3f-47e0-eff7-14f486201f26"
      },
      "source": [
        "from sklearn.model_selection import train_test_split\n",
        "X_train, X_val, y_train, y_val = train_test_split(df_train.index.values, \n",
        "                                                  df_train.level.values, \n",
        "                                                  test_size=0.10, \n",
        "                                                  random_state=42, \n",
        "                                                  stratify=df_train.level.values)\n",
        "\n",
        "df_train['data_type'] = ['not_set']*df_train.shape[0]\n",
        "df_train.loc[X_train, 'data_type'] = 'train'\n",
        "df_train.loc[X_val, 'data_type'] = 'test'\n",
        "df_train"
      ],
      "execution_count": 24,
      "outputs": [
        {
          "output_type": "execute_result",
          "data": {
            "text/html": [
              "<div>\n",
              "<style scoped>\n",
              "    .dataframe tbody tr th:only-of-type {\n",
              "        vertical-align: middle;\n",
              "    }\n",
              "\n",
              "    .dataframe tbody tr th {\n",
              "        vertical-align: top;\n",
              "    }\n",
              "\n",
              "    .dataframe thead th {\n",
              "        text-align: right;\n",
              "    }\n",
              "</style>\n",
              "<table border=\"1\" class=\"dataframe\">\n",
              "  <thead>\n",
              "    <tr style=\"text-align: right;\">\n",
              "      <th></th>\n",
              "      <th>image</th>\n",
              "      <th>level</th>\n",
              "      <th>data_type</th>\n",
              "    </tr>\n",
              "  </thead>\n",
              "  <tbody>\n",
              "    <tr>\n",
              "      <th>0</th>\n",
              "      <td>10_left</td>\n",
              "      <td>0</td>\n",
              "      <td>train</td>\n",
              "    </tr>\n",
              "    <tr>\n",
              "      <th>1</th>\n",
              "      <td>10_right</td>\n",
              "      <td>0</td>\n",
              "      <td>train</td>\n",
              "    </tr>\n",
              "    <tr>\n",
              "      <th>2</th>\n",
              "      <td>13_left</td>\n",
              "      <td>0</td>\n",
              "      <td>train</td>\n",
              "    </tr>\n",
              "    <tr>\n",
              "      <th>3</th>\n",
              "      <td>13_right</td>\n",
              "      <td>0</td>\n",
              "      <td>train</td>\n",
              "    </tr>\n",
              "    <tr>\n",
              "      <th>4</th>\n",
              "      <td>15_left</td>\n",
              "      <td>1</td>\n",
              "      <td>test</td>\n",
              "    </tr>\n",
              "    <tr>\n",
              "      <th>...</th>\n",
              "      <td>...</td>\n",
              "      <td>...</td>\n",
              "      <td>...</td>\n",
              "    </tr>\n",
              "    <tr>\n",
              "      <th>35121</th>\n",
              "      <td>44347_right</td>\n",
              "      <td>0</td>\n",
              "      <td>test</td>\n",
              "    </tr>\n",
              "    <tr>\n",
              "      <th>35122</th>\n",
              "      <td>44348_left</td>\n",
              "      <td>0</td>\n",
              "      <td>train</td>\n",
              "    </tr>\n",
              "    <tr>\n",
              "      <th>35123</th>\n",
              "      <td>44348_right</td>\n",
              "      <td>0</td>\n",
              "      <td>test</td>\n",
              "    </tr>\n",
              "    <tr>\n",
              "      <th>35124</th>\n",
              "      <td>44349_left</td>\n",
              "      <td>0</td>\n",
              "      <td>train</td>\n",
              "    </tr>\n",
              "    <tr>\n",
              "      <th>35125</th>\n",
              "      <td>44349_right</td>\n",
              "      <td>1</td>\n",
              "      <td>train</td>\n",
              "    </tr>\n",
              "  </tbody>\n",
              "</table>\n",
              "<p>35126 rows × 3 columns</p>\n",
              "</div>"
            ],
            "text/plain": [
              "             image  level data_type\n",
              "0          10_left      0     train\n",
              "1         10_right      0     train\n",
              "2          13_left      0     train\n",
              "3         13_right      0     train\n",
              "4          15_left      1      test\n",
              "...            ...    ...       ...\n",
              "35121  44347_right      0      test\n",
              "35122   44348_left      0     train\n",
              "35123  44348_right      0      test\n",
              "35124   44349_left      0     train\n",
              "35125  44349_right      1     train\n",
              "\n",
              "[35126 rows x 3 columns]"
            ]
          },
          "metadata": {},
          "execution_count": 24
        }
      ]
    },
    {
      "cell_type": "code",
      "metadata": {
        "id": "XO4OQPoP1ftN",
        "colab": {
          "base_uri": "https://localhost:8080/"
        },
        "outputId": "676593b9-bd75-408e-edef-b3c518815fc7"
      },
      "source": [
        "df_train.isnull().sum()"
      ],
      "execution_count": null,
      "outputs": [
        {
          "output_type": "execute_result",
          "data": {
            "text/plain": [
              "image        0\n",
              "level        0\n",
              "data_type    0\n",
              "dtype: int64"
            ]
          },
          "metadata": {},
          "execution_count": 13
        }
      ]
    },
    {
      "cell_type": "code",
      "metadata": {
        "colab": {
          "base_uri": "https://localhost:8080/"
        },
        "id": "18dv-96SRz_Y",
        "outputId": "5dbbbc05-f7db-4feb-ec89-2ec0a5a410fc"
      },
      "source": [
        "# Lenth of Training Set\n",
        "len(df_train)/2"
      ],
      "execution_count": null,
      "outputs": [
        {
          "output_type": "execute_result",
          "data": {
            "text/plain": [
              "17563.0"
            ]
          },
          "metadata": {},
          "execution_count": 16
        }
      ]
    },
    {
      "cell_type": "code",
      "metadata": {
        "id": "UhxEQtHpSVOP"
      },
      "source": [
        "resized_train_path = '/content/resized_train/resized_train/'"
      ],
      "execution_count": null,
      "outputs": []
    },
    {
      "cell_type": "markdown",
      "metadata": {
        "id": "5sADVWC_LZpY"
      },
      "source": [
        "## Separating training and validation set by their labels"
      ]
    },
    {
      "cell_type": "code",
      "metadata": {
        "id": "IZ_nwCefLJ4K"
      },
      "source": [
        "!mkdir Dataset/\n",
        "!mkdir Dataset/train/\n",
        "!mkdir Dataset/test/"
      ],
      "execution_count": null,
      "outputs": []
    },
    {
      "cell_type": "code",
      "metadata": {
        "colab": {
          "base_uri": "https://localhost:8080/"
        },
        "id": "Ww2-l2mi76vA",
        "outputId": "64ecbaf4-40ed-4d72-afe4-21f498daa512"
      },
      "source": [
        "labels = df_train['level'].unique()\n",
        "labels"
      ],
      "execution_count": null,
      "outputs": [
        {
          "output_type": "execute_result",
          "data": {
            "text/plain": [
              "array([0, 1, 2, 4, 3])"
            ]
          },
          "metadata": {},
          "execution_count": 18
        }
      ]
    },
    {
      "cell_type": "markdown",
      "metadata": {
        "id": "wsbp1DCEQsIw"
      },
      "source": [
        "### Train/Test Label Folders"
      ]
    },
    {
      "cell_type": "code",
      "metadata": {
        "id": "iWRreJpJl_Ir"
      },
      "source": [
        "# Parent Directory path \n",
        "training_dir = '/content/Dataset/train/'\n",
        "test_dir = '/content/Dataset/test/'\n",
        "for label in labels :\n",
        "  path_train = os.path.join(training_dir, str(label)) \n",
        "  path_test = os.path.join(test_dir, str(label)) \n",
        "  os.mkdir(path_train)\n",
        "  os.mkdir(path_test)"
      ],
      "execution_count": 20,
      "outputs": []
    },
    {
      "cell_type": "code",
      "metadata": {
        "id": "-SZb16x2GIj9"
      },
      "source": [
        "from pathlib import Path\n",
        "def separate_by_label(parent_dir, move_to, df, data_type = 'train') :\n",
        "  for index, row in df.iterrows():\n",
        "    if row['data_type'] == data_type :\n",
        "      destination = move_to+str(row['level'])+'/'+ row['image'] + '.jpeg'\n",
        "      Path(parent_dir + row['image'] + '.jpeg').rename(destination)\n",
        "    else :\n",
        "      continue"
      ],
      "execution_count": 22,
      "outputs": []
    },
    {
      "cell_type": "code",
      "metadata": {
        "id": "NgrvpWxMO-57"
      },
      "source": [
        "separate_by_label(resized_train_path,training_dir,df_train, data_type = 'train')\n",
        "separate_by_label(resized_train_path,test_dir,df_train, data_type = 'test')"
      ],
      "execution_count": 23,
      "outputs": []
    },
    {
      "cell_type": "code",
      "metadata": {
        "id": "uT0t9rAS90fN"
      },
      "source": [
        "df_train[df_train['data_type'] == 'train'].to_csv (training_dir + 'trainLabels.csv', index = False, header=True)\n",
        "df_train[df_train['data_type'] == 'test'].to_csv (test_dir + 'testLabels.csv', index = False, header=True)"
      ],
      "execution_count": 26,
      "outputs": []
    },
    {
      "cell_type": "code",
      "metadata": {
        "colab": {
          "base_uri": "https://localhost:8080/",
          "height": 286
        },
        "id": "kd1Rf8cwPOoq",
        "outputId": "b498ed05-97ec-4bef-984b-0804879720c3"
      },
      "source": [
        "from matplotlib.image import imread\n",
        "img = imread('/content/Dataset/train/4/10017_left.jpeg')\n",
        "plt.imshow(img)"
      ],
      "execution_count": 27,
      "outputs": [
        {
          "output_type": "execute_result",
          "data": {
            "text/plain": [
              "<matplotlib.image.AxesImage at 0x7f600905a190>"
            ]
          },
          "metadata": {},
          "execution_count": 27
        },
        {
          "output_type": "display_data",
          "data": {
            "image/png": "[encoded data removed]",
            "text/plain": [
              "<Figure size 432x288 with 1 Axes>"
            ]
          },
          "metadata": {
            "needs_background": "light"
          }
        }
      ]
    },
    {
      "cell_type": "markdown",
      "metadata": {
        "id": "cQG-17J78e2E"
      },
      "source": [
        "## Dataloader"
      ]
    },
    {
      "cell_type": "code",
      "metadata": {
        "id": "KiN5n78S8EbX"
      },
      "source": [
        "import torchvision\n",
        "from PIL import Image\n",
        "from torch.utils.data import Dataset\n",
        "import os\n",
        "import pandas as pd\n",
        "\n",
        "class DiabeticRetinopathyDataset(Dataset):\n",
        "    def __init__(self, base_image_dir, set_type='train', transforms=None, balance=True):\n",
        "\n",
        "        self.transforms = transforms\n",
        "\n",
        "        self.dataframe = pd.read_csv(os.path.join(base_image_dir, f'{set_type}Labels.csv'), dtype='str')\n",
        "\n",
        "        self.dataframe['patient_id'] = self.dataframe['image'].map(lambda x: x.split('_')[0])\n",
        "        self.dataframe['path'] = self.dataframe['image'].map(lambda x: os.path.join(base_image_dir,\n",
        "                                                                                    '{}.jpeg'.format(x)))\n",
        "        self.dataframe['exists'] = self.dataframe['path'].map(os.path.exists)\n",
        "        self.dataframe['eye'] = self.dataframe['image'].map(lambda x: 1 if x.split('_')[-1] == 'left' else 0)\n",
        "        self.dataframe.dropna(inplace=True)\n",
        "        self.dataframe = self.dataframe[self.dataframe['exists']]\n",
        "        self.exist_unbalance_count = self.dataframe.shape[0]\n",
        "\n",
        "        if balance:\n",
        "            g = self.dataframe.groupby('level')\n",
        "            g = pd.DataFrame(g.apply(lambda x: x.sample(g.size().min()).reset_index(drop=True)))\n",
        "            self.dataframe = g\n",
        "\n",
        "    def __len__(self):\n",
        "        return len(self.dataframe)\n",
        "\n",
        "    def __getitem__(self, index):\n",
        "        row = self.dataframe.iloc[index]\n",
        "\n",
        "        data = Image.open(row[\"path\"])\n",
        "        label = int(row[\"level\"])\n",
        "        if self.transforms is not None:\n",
        "            data = self.transforms(data)\n",
        "        # If the transform variable is not empty\n",
        "        # then it applies the operations in the transforms with the order that it is created.\n",
        "        return data, label"
      ],
      "execution_count": 28,
      "outputs": []
    },
    {
      "cell_type": "markdown",
      "metadata": {
        "id": "cTXlDccvSgOU"
      },
      "source": [
        "The <a href='https://discuss.pytorch.org/t/normalization-in-the-mnist-example/457/22'>recommended normalization parameters</a> for mean and std per channel."
      ]
    },
    {
      "cell_type": "code",
      "metadata": {
        "id": "X2ZL8jre_HF5"
      },
      "source": [
        "from torchvision import datasets, transforms, models\n",
        "train_transform = transforms.Compose([\n",
        "    transforms.RandomRotation(10),      # rotate +/- 10 degrees\n",
        "    transforms.RandomHorizontalFlip(),  # reverse 50% of images\n",
        "    transforms.Resize(224),             # resize shortest side to 224 pixels\n",
        "    transforms.CenterCrop(224),         # crop longest side to 224 pixels at center\n",
        "    transforms.ToTensor(),\n",
        "    transforms.Normalize([0.485, 0.456, 0.406],\n",
        "                          [0.229, 0.224, 0.225])\n",
        "])\n",
        "\n",
        "test_transform = transforms.Compose([\n",
        "    transforms.Resize(224),\n",
        "    transforms.CenterCrop(224),\n",
        "    transforms.ToTensor(),\n",
        "    transforms.Normalize([0.485, 0.456, 0.406],\n",
        "                          [0.229, 0.224, 0.225])\n",
        "])"
      ],
      "execution_count": 30,
      "outputs": []
    },
    {
      "cell_type": "code",
      "metadata": {
        "id": "Au1S546G89G6"
      },
      "source": [
        "train_loader = DiabeticRetinopathyDataset(training_dir,transforms=train_transform, set_type='train')\n",
        "test_loader = DiabeticRetinopathyDataset(test_dir,transforms=test_transform, set_type='test')"
      ],
      "execution_count": 35,
      "outputs": []
    },
    {
      "cell_type": "code",
      "metadata": {
        "id": "BbBxJu9i9XE9"
      },
      "source": [
        ""
      ],
      "execution_count": null,
      "outputs": []
    }
  ]
}